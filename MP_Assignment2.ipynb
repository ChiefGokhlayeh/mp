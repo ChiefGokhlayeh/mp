{
 "cells": [
  {
   "cell_type": "markdown",
   "metadata": {
    "id": "Ks8L-P-9w-H8"
   },
   "source": [
    "## Motion Planning, Assignment 2:\n",
    "\n",
    "# Vehicle kinematics model and Stanley controller\n",
    "\n",
    "The objective of this assignment is the implementation of a Stanley controller for simple path following. To develop this controller, you will start off writing a kinematic simulation model of a vehicle based on the bicylce model. Hints on using Python and Jupyter notebooks can be found on the course's Moodle page. \n",
    "\n",
    "## 1. Preparation: load and display the target trajectory\n",
    "\n",
    "Load all required standard libs:"
   ]
  },
  {
   "cell_type": "code",
   "execution_count": null,
   "metadata": {
    "id": "DwCp22Oww-H_"
   },
   "outputs": [],
   "source": [
    "import matplotlib.pyplot as plt\n",
    "import numpy as np\n",
    "from IPython.display import HTML\n",
    "from matplotlib import animation, rc\n",
    "from scipy.integrate import odeint"
   ]
  },
  {
   "cell_type": "markdown",
   "metadata": {
    "id": "2rDVSCh8w-IA"
   },
   "source": [
    "And upload the reference path to Colab:"
   ]
  },
  {
   "cell_type": "code",
   "execution_count": null,
   "metadata": {
    "id": "Fj4CGVwfw-IB"
   },
   "outputs": [],
   "source": [
    "# Upload data - Colab ONLY!\n",
    "import io\n",
    "import shutil\n",
    "\n",
    "import requests\n",
    "\n",
    "url = \"https://raw.githubusercontent.com/ChiefGokhlayeh/mp/main/coursedata.npz\"\n",
    "\n",
    "response = requests.get(url, allow_redirects=True)\n",
    "\n",
    "with open(\"coursedata.npz\", \"wb\") as fin:\n",
    "    shutil.copyfileobj(io.BytesIO(response.content), fin)"
   ]
  },
  {
   "cell_type": "markdown",
   "metadata": {
    "id": "n16vik0nw-IB"
   },
   "source": [
    "You can load the reference path data using:"
   ]
  },
  {
   "cell_type": "code",
   "execution_count": null,
   "metadata": {
    "colab": {
     "base_uri": "https://localhost:8080/"
    },
    "id": "NQgFTTTjw-IB",
    "outputId": "a3865f06-2283-4b8b-b31e-c69166fe3f0a"
   },
   "outputs": [],
   "source": [
    "trkdata = np.load(\"coursedata.npz\")\n",
    "print(trkdata.files)"
   ]
  },
  {
   "cell_type": "markdown",
   "metadata": {
    "id": "Vu_B8x_bw-IC"
   },
   "source": [
    "## Ex 1.1\n",
    "\n",
    "Make sure you understand the meaning of the elements of the path (note: ```curvature``` is the reciprocal of the circle radius ```r```). Draw the reference path using the command ```plt.plot```."
   ]
  },
  {
   "cell_type": "code",
   "execution_count": null,
   "metadata": {
    "colab": {
     "base_uri": "https://localhost:8080/",
     "height": 367
    },
    "id": "IR6PSdTkw-IC",
    "outputId": "12be0bbd-4fda-4ddc-f892-1086a70ac846"
   },
   "outputs": [],
   "source": [
    "_, (ax0, ax1) = plt.subplots(1, 2, figsize=(12, 5))\n",
    "ax0.plot(trkdata[\"curvature\"])\n",
    "ax0.set_xlabel(\"Index\")\n",
    "ax0.set_ylabel(\"Curvature\")\n",
    "ax0.grid(True)\n",
    "ax0.set_title(\"Trajectory Curvature\")\n",
    "\n",
    "ax1 = plt.subplot(1, 2, 2)\n",
    "ax1.plot(trkdata[\"x\"], trkdata[\"y\"], \"g\")\n",
    "plt.quiver(\n",
    "    trkdata[\"x\"][::100],\n",
    "    trkdata[\"y\"][::100],\n",
    "    np.cos(trkdata[\"yaw\"][::100]),\n",
    "    np.sin(trkdata[\"yaw\"][::100]),\n",
    ")\n",
    "ax1.set_xlabel(\"x Coord\")\n",
    "ax1.set_ylabel(\"y Coord\")\n",
    "ax1.grid(True)\n",
    "ax1.set_title(\"Trajectory\")"
   ]
  },
  {
   "cell_type": "markdown",
   "metadata": {
    "id": "Y4iml9eIw-ID"
   },
   "source": [
    "## 2. Lateral acceleration\n",
    "\n",
    "To make sure the vehicle can be operated safely, it should leave a significant margin to the its dynamic limits. This implies that the operation points of the vehicle should be placed well inside of **Kamm's Circle** (as described in the lecture slides).\n",
    "\n",
    "We assume, that the desired path shall be travelled with constant longitudinal velocity  \n",
    "(i.e. longitudinal acceleration $a_x = 0$), and that for stable operation, the lateral acceleration should never exceed $6 m/s^2$. \n",
    "\n",
    "## Ex 2.1\n",
    "\n",
    "Based on these assumptions, you can derive an upper limit ```v_desired``` of the vehicle's velocity that the vehicle can drive without violating the max. admissable lateral acceleration:\n",
    "1. At first, let ```v_desired=40km/h```. \n",
    "2. For this speed, compute the resulting lateral acceleration $a_y$ along the reference path. You may use the approximate formula for driving a circular path with constant velocity (cf. lecture slides): \n",
    "\n",
    "\\begin{eqnarray} \\dot{\\psi} &=& v_{soll} \\, / \\, r \\\\\n",
    "\\rightarrow \\;\\;\\;\\; a_y &=& v_{desired} \\,\\dot{\\psi} = v_{desired}^2 \\, / \\, r \n",
    "\\end{eqnarray} \n",
    "\n",
    "and using curvature $\\kappa = 1/r$: \n",
    "\n",
    "\\begin{equation}\n",
    "a_y = v_{desired}^2 \\, \\kappa \\,.\n",
    "\\end{equation} \n",
    "\n",
    "Visualize $a_y$ using ```plt.plot```. Can the vehicle drive the reference path at ```v_desired=40km/h``` without violating the lateral acceleration constraint?\n",
    "3. By testing various velocitys, find the highest desired speed ``v_desired`` at which the vehicle can still safely drive along the path."
   ]
  },
  {
   "cell_type": "code",
   "execution_count": null,
   "metadata": {
    "colab": {
     "base_uri": "https://localhost:8080/",
     "height": 610
    },
    "id": "qc9sNLAaw-IE",
    "outputId": "18fb5246-1f0e-48f4-8ba9-cb1d72ef75f9"
   },
   "outputs": [],
   "source": [
    "import matplotlib\n",
    "\n",
    "_, (ax0, ax1) = plt.subplots(2, 1, figsize=(7, 10))\n",
    "ax0.plot(trkdata[\"s\"], np.unwrap(trkdata[\"yaw\"]), \"b\", label=\"yaw\")\n",
    "ax0.set_ylabel(\"yaw angle [rad]\")\n",
    "ax0.grid(True)\n",
    "\n",
    "v_desired = 30 / 3.6\n",
    "max_a_y = 6\n",
    "\n",
    "a_y = v_desired**2 * trkdata[\"curvature\"]\n",
    "ax1.plot(a_y, \"r\", label=\"accel\")\n",
    "ax1.set_xlabel(\"$t$\")\n",
    "ax1.set_ylabel(r\"acceleration [$\\mathrm{m}/\\mathrm{s}^2$]\")\n",
    "ax1.grid(True)\n",
    "ax1.set_title(f\"Lateral Acceleration at {v_desired * 3.6:.0f} km/h\")\n",
    "ax1.axhline(max_a_y, label=\"max positive acceleration\")\n",
    "ax1.axhline(-max_a_y, label=\"max negative acceleration\");"
   ]
  },
  {
   "cell_type": "markdown",
   "metadata": {
    "id": "ZhQDgEoAw-IF"
   },
   "source": [
    "## 3. Kinematic vehicle model\n",
    "\n",
    "The foundation for evaluating a controller is a suitable model of the plant. Here, we first employ a simplified kinematic model of a driving a constant circular path without side slip angles.\n",
    "\n",
    "For small steering angles, we have (cf lecture slides on Ackermann angle):\n",
    "$$\n",
    "\\tan \\delta_A = L / r\n",
    "$$\n",
    "Using the yaw rate\n",
    "$$\n",
    "\\dot{\\psi} = v / r\n",
    "$$\n",
    "we get \n",
    "$$\n",
    "\\dot{\\psi} = \\frac{v}{L} \\tan \\delta_A \\;. \n",
    "$$\n",
    "\n",
    "We will use the function [odeint](https://docs.scipy.org/doc/scipy/reference/generated/scipy.integrate.odeint.html) to simulate the kinematic model. This function requires the time derivatives of all relevant state components. Since $\\dot{\\psi}$ is already available, we still need the derivatives $\\dot{x}, \\dot{y},$ and $\\dot{v}$.\n",
    "\n",
    "From the following Figure\n",
    "\n",
    "![SimpleVehiclePose.png](https://drive.google.com/uc?id=1I-QTvM15N7ilJ9TWuaXYlM67ptnkGzq8)\n",
    "\n",
    "we can easily obtain these derivatives using the yaw angle $\\psi$:\n",
    "\n",
    "\\begin{eqnarray}\n",
    "        \\dot{x} &=& v \\cos \\psi  \\\\\n",
    "        \\dot{y} &=& v \\sin \\psi  \\\\\n",
    "        \\dot{\\psi} &=& \\frac{v}{L} \\tan \\delta_A \\\\\n",
    "        \\dot{v} &=& a \n",
    "\\end{eqnarray}\n",
    "\n",
    "where $a$ denotes the longitudinal acceleration of the vehicle. \n",
    "\n",
    "## Ex 3.1\n",
    "\n",
    "Use these formulae to complete the code for the vehicle model below. Please consider the following hints:\n",
    "\n",
    "* Both the steering angle and the acceleration are bounded in a real vehicle. Thus, limit the desired steering angle (using $|\\delta_A|$ < ``max_steer``) as well as the desired longitudinal acceleration (using ``min_ax`` < $a_x$ < ``max_ax``) in your model.\n",
    "* It is helpful to normalize the angles in your model to the range $[-\\pi, \\pi]$. You may use the function ``normalize_angle(angle)`` for this.   \n",
    "* For brevity, you may omit checking whether the vehicle's acceleration lies within Kamm's circle in this excercise.\n",
    "\n",
    "Test your code by running several simulations with different commanded signals."
   ]
  },
  {
   "cell_type": "code",
   "execution_count": null,
   "metadata": {
    "colab": {
     "base_uri": "https://localhost:8080/",
     "height": 283
    },
    "id": "6mojVTvkw-IG",
    "outputId": "b6c4f823-f5c0-4e1c-945a-fee6aaa53141"
   },
   "outputs": [],
   "source": [
    "dT = 0.1  # [s] time difference\n",
    "L = 2.9  # [m] Wheel base of vehicle\n",
    "veh_dim_x, veh_dim_y = 4, 1.9  # [m] size of vehicle (length, width)\n",
    "max_steer = np.radians(30.0)  # [rad] max steering angle\n",
    "max_ax = 2  # [m/ss] max (positive) acceleration\n",
    "min_ax = -10  # [m/ss] max decceleration (=min negative acceleration)\n",
    "\n",
    "# sluggish vehicle (only needed for optional excercise):\n",
    "m = 1800  # [kg] mass\n",
    "J = 3000  # moment of inertia [kg/m2]\n",
    "lv = 1.3  # distance COG to front axle [m]\n",
    "lh = 1.6  # distance COG to rear axle [m]\n",
    "cav = 2 * 60000  # lateral tire stiffness front [N/rad]\n",
    "cah = 2 * 60000  # lateral tire stiffness rear [N/rad]\n",
    "\n",
    "\n",
    "def normalize_angle(angle):\n",
    "    \"\"\"Normalize an angle to [-pi, pi].\"\"\"\n",
    "    return (angle + np.pi) % (2 * np.pi) - np.pi\n",
    "\n",
    "\n",
    "class State:\n",
    "    \"\"\"\n",
    "    Class representing the state of a vehicle.\n",
    "\n",
    "    :var t: (float) current time\n",
    "    :var x: (float) x-coordinate\n",
    "    :var y: (float) y-coordinate\n",
    "    :var yaw: (float) yaw angle\n",
    "    :var v: (float) speed\n",
    "\n",
    "    For the second part of the excercise (one track dynamics model),\n",
    "    you additionally need two more state components:\n",
    "\n",
    "    :var beta: (float) slip angle\n",
    "    :var dyaw_dt: (float) time derivative of slip angle\n",
    "    \"\"\"\n",
    "\n",
    "    def __init__(self, x=0.0, y=0.0, yaw=0.0, v=0.0, t=0.0):\n",
    "        \"\"\"Instantiate the object.\"\"\"\n",
    "        super().__init__()\n",
    "        self.x = x\n",
    "        self.y = y\n",
    "        self.yaw = yaw\n",
    "        self.v = v\n",
    "        self.t = t\n",
    "\n",
    "        self.beta = 0\n",
    "        self.dyaw_dt = 0\n",
    "\n",
    "    def kinematic_model(self, state, t, acceleration, delta):\n",
    "        \"\"\"Kinematic vehicle model.\n",
    "        This function is to be used in odeint and has\n",
    "        form \"dstate_dt = f(state,t)\".\n",
    "        \"\"\"\n",
    "        x, y, yaw, v = state\n",
    "\n",
    "        dx_dt = v * np.cos(yaw)\n",
    "        dy_dt = v * np.sin(yaw)\n",
    "        dyaw_dt = normalize_angle((v / L) * np.tan(delta))\n",
    "        dv_dt = min(max(acceleration, min_ax), max_ax)\n",
    "\n",
    "        dstate_dt = [dx_dt, dy_dt, dyaw_dt, dv_dt]\n",
    "        return dstate_dt\n",
    "\n",
    "    def update(self, acceleration, delta):\n",
    "        \"\"\"\n",
    "        Update the state of the vehicle.\n",
    "\n",
    "        :param acceleration: (float) Acceleration\n",
    "        :param delta: (float) Steering\n",
    "        \"\"\"\n",
    "        state0 = [self.x, self.y, self.yaw, self.v]\n",
    "        ti = [self.t, self.t + dT]\n",
    "        sol = odeint(self.kinematic_model, state0, ti, args=(acceleration, delta))\n",
    "\n",
    "        self.x, self.y, self.yaw, self.v = sol[1]\n",
    "        self.yaw = normalize_angle(self.yaw)\n",
    "        self.t = ti[1]\n",
    "\n",
    "    def dynamic_model(self, state, t, acceleration, delta):\n",
    "        \"\"\"Model for the lateral and yaw dynamics of the bicylce model\n",
    "        (only needed for optional excercise).\n",
    "\n",
    "        This function is to be used in odeint and has\n",
    "        form \"dstate_dt = f(state,t)\".\n",
    "        \"\"\"\n",
    "        x, y, yaw, v, beta, dyaw_dt = state\n",
    "\n",
    "        alpha_v = yaw - beta - lv * (dyaw_dt / v)\n",
    "        alpha_h = -beta + lh * (dyaw_dt / v)\n",
    "\n",
    "        F_Sv = cav * alpha_v\n",
    "        F_Sh = cah * alpha_h\n",
    "\n",
    "        dx_dt = np.cos(beta)\n",
    "        dy_dt = np.sin(beta)\n",
    "        dyaw_dt = normalize_angle(v / L * np.tan(delta) - beta)\n",
    "        dv_dt = min(max(acceleration, min_ax), max_ax)\n",
    "        dbeta_dt = (F_Sh * np.cos(delta) + F_Sh) / (m * v) - dyaw_dt\n",
    "        ddyaw_dt2 = (lv * F_Sv * np.cos(delta) - lh * F_Sh) / J\n",
    "\n",
    "        dstate_dt = [dx_dt, dy_dt, dyaw_dt, dv_dt, dbeta_dt, ddyaw_dt2]\n",
    "        return dstate_dt\n",
    "\n",
    "    def update_dynamic_model(self, acceleration, delta):\n",
    "        \"\"\"\n",
    "        Update the state of the vehicle (only needed for optional excercise).\n",
    "\n",
    "        :param acceleration: (float) Acceleration\n",
    "        :param delta: (float) Steering\n",
    "        \"\"\"\n",
    "        state0 = [self.x, self.y, self.yaw, self.v, self.beta, self.dyaw_dt]\n",
    "        ti = [self.t, self.t + dT]\n",
    "        sol = odeint(self.dynamic_model, state0, ti, args=(acceleration, delta))\n",
    "\n",
    "        self.x, self.y, self.yaw, self.v, self.beta, self.dyaw_dt = sol[1]\n",
    "        self.yaw = normalize_angle(self.yaw)\n",
    "        self.beta = normalize_angle(self.beta)\n",
    "        self.t = ti[1]\n",
    "\n",
    "\n",
    "## MODIFY HERE FOR EVALUATION\n",
    "S = State(v=v_desired)\n",
    "x, y = [S.x], [S.y]\n",
    "for i in range(30):\n",
    "    S.update_dynamic_model(acceleration=0, delta=np.radians(15.0))\n",
    "    x.append(S.x)\n",
    "    y.append(S.y)\n",
    "\n",
    "plt.plot(x, y, \"b\", label=\"vehicle position\")\n",
    "plt.legend()\n",
    "plt.xlabel(\"x[m]\")\n",
    "plt.ylabel(\"y[m]\")\n",
    "plt.axis(\"equal\")\n",
    "plt.grid(True)"
   ]
  },
  {
   "cell_type": "markdown",
   "metadata": {
    "id": "bc_ZF7VYw-IH"
   },
   "source": [
    "## Ex 3.2 (optional)\n",
    "\n",
    "As an optional excercise, you may implement the dynamic bicycle model with side slip angle $\\beta$ and yaw rate $\\dot{\\psi}$ as discussed in the lecture. Modify the functions ``dynamic_model`` and ``update_dynamic_model`` for this and adapt the visualization code above."
   ]
  },
  {
   "cell_type": "markdown",
   "metadata": {
    "id": "N-grzQ4Lw-IH"
   },
   "source": [
    "## 4. Longitudinal control\n",
    "\n",
    "Implement a simple P-controller for longitudinal control. The input for the longitudinal controller shall be the desired velocity and the current (actual) velocity.\n",
    "\n",
    "## Ex 4.1\n",
    "\n",
    "Complete the code below. "
   ]
  },
  {
   "cell_type": "code",
   "execution_count": null,
   "metadata": {
    "colab": {
     "base_uri": "https://localhost:8080/",
     "height": 225
    },
    "id": "-0MS_XJSw-II",
    "outputId": "1ae14406-4671-4830-d499-295fb9208968"
   },
   "outputs": [],
   "source": [
    "Kp = 1.0  # speed propotional gain\n",
    "\n",
    "\n",
    "def speed_control(target, current):\n",
    "    \"\"\"\n",
    "    Proportional control for the speed.\n",
    "    :param target: target speed (m/s)\n",
    "    :param current: current speed (m/s)\n",
    "    :return: controller output (m/ss)\n",
    "    \"\"\"\n",
    "    return (target - current) * Kp\n",
    "\n",
    "\n",
    "S = State(v=0)\n",
    "x, y, v = [S.x], [S.y], [S.v]\n",
    "for i in range(100):\n",
    "    acc = speed_control(v_desired, S.v)\n",
    "    S.update(acceleration=acc, delta=np.radians(10.0))\n",
    "    x.append(S.x)\n",
    "    y.append(S.y)\n",
    "    v.append(S.v)\n",
    "\n",
    "plt.figure(figsize=(10, 3))\n",
    "plt.subplot(1, 2, 1)\n",
    "plt.plot(x, y, \"b\", label=\"vehicle position\")\n",
    "plt.legend()\n",
    "plt.xlabel(\"x[m]\")\n",
    "plt.ylabel(\"y[m]\")\n",
    "plt.axis(\"equal\")\n",
    "plt.grid(True)\n",
    "\n",
    "plt.subplot(1, 2, 2)\n",
    "plt.plot(v, \"g\", label=\"velocity\")\n",
    "plt.legend()\n",
    "plt.xlabel(\"idx\")\n",
    "plt.ylabel(\"v[m/s]\")\n",
    "plt.grid(True)"
   ]
  },
  {
   "cell_type": "markdown",
   "metadata": {
    "id": "xDRveLK3w-II"
   },
   "source": [
    "## 5. Lateral control using the Stanley method\n",
    "\n",
    "For running the lateral controller, we need to compute the current lateral offset from the vehicle's current position and the desired reference path:\n",
    "![calcIndex.png](https://drive.google.com/uc?id=1mDOq3lLrQPgraxkdItuuFBBq5bii9sNx)\n",
    "\n",
    "This can be done with function ```calc_target_index(state, cx, cy, cyaw)```.\n",
    "Read and understand the code below."
   ]
  },
  {
   "cell_type": "code",
   "execution_count": null,
   "metadata": {
    "id": "4qTHFv12w-II"
   },
   "outputs": [],
   "source": [
    "def calc_target_index(state, cx, cy, cyaw):\n",
    "    \"\"\"\n",
    "    Compute index in the trajectory list of the target.\n",
    "\n",
    "    :param state: (State object)\n",
    "    :param cx: [m] x-coordinates of (sampled) desired trajectory\n",
    "    :param cy: [m] y-coordinates of (sampled) desired trajectory\n",
    "    :param cyaw: [rad] tangent angle of (sampled) desired trajectory\n",
    "    :return: (int, float)\n",
    "    \"\"\"\n",
    "    # Calc front axle position\n",
    "    fx = state.x + 0.5 * L * np.cos(state.yaw)\n",
    "    fy = state.y + 0.5 * L * np.sin(state.yaw)\n",
    "\n",
    "    # Search nearest point index\n",
    "    dx_vec = fx - np.asarray(cx).reshape([-1, 1])\n",
    "    dy_vec = fy - np.asarray(cy).reshape([-1, 1])\n",
    "    dist = np.hstack([dx_vec, dy_vec])\n",
    "    dist_2 = np.sum(dist**2, axis=1)\n",
    "    target_idx = np.argmin(dist_2)\n",
    "\n",
    "    # Project RMS error onto front axle vector\n",
    "    front_axle_vec = [\n",
    "        np.cos(cyaw[target_idx] + np.pi / 2),\n",
    "        np.sin(cyaw[target_idx] + np.pi / 2),\n",
    "    ]\n",
    "    error_front_axle = np.dot(dist[target_idx, :], front_axle_vec)\n",
    "\n",
    "    return target_idx, error_front_axle"
   ]
  },
  {
   "cell_type": "markdown",
   "metadata": {
    "id": "JqFJhc7xw-IJ"
   },
   "source": [
    "## Ex 5.1\n",
    "\n",
    "Using the lecture slides, complete the code for the Stanley controller below.\n",
    "\n",
    "Note: Make sure to normalize the difference in angles $\\psi_d$ using the function ```normalize_angle```."
   ]
  },
  {
   "cell_type": "code",
   "execution_count": null,
   "metadata": {
    "id": "q30ayhk_w-IJ"
   },
   "outputs": [],
   "source": [
    "k = 0.7  # control gain\n",
    "Kv = 0.1\n",
    "\n",
    "\n",
    "def stanley_control(state, cx, cy, cyaw, last_target_idx):\n",
    "    \"\"\"\n",
    "    Stanley steering control.\n",
    "\n",
    "    :param state: (State object)\n",
    "    :param cx: [m] x-coordinates of (sampled) desired trajectory\n",
    "    :param cy: [m] y-coordinates of (sampled) desired trajectory\n",
    "    :param cyaw: [rad] orientation of (sampled) desired trajectory\n",
    "    :param last_target_idx: [int] last visited point on desired trajectory\n",
    "    :return: ([rad] steering angle,\n",
    "        [int] last visited point on desired trajectory,\n",
    "        [m] cross track error at front axle)\n",
    "    \"\"\"\n",
    "    current_target_idx, error_front_axle = calc_target_index(state, cx, cy, cyaw)\n",
    "\n",
    "    # make sure that we never match a point on the desired path\n",
    "    # that we already passed earlier:\n",
    "    if last_target_idx >= current_target_idx:\n",
    "        current_target_idx = last_target_idx\n",
    "\n",
    "    delta = normalize_angle(cyaw[current_target_idx] - state.yaw) + np.arctan2(\n",
    "        -k * error_front_axle, Kv + state.v\n",
    "    )\n",
    "\n",
    "    return delta, current_target_idx, error_front_axle"
   ]
  },
  {
   "cell_type": "markdown",
   "metadata": {
    "id": "hmBwzAQMw-IJ"
   },
   "source": [
    "## Ex 6.1 (Putting it all together)\n",
    "\n",
    "Combine both controllers to follow the given path. Examine the resulting lateral deviations."
   ]
  },
  {
   "cell_type": "code",
   "execution_count": null,
   "metadata": {
    "colab": {
     "base_uri": "https://localhost:8080/",
     "height": 803
    },
    "id": "AnLKcINiw-IK",
    "outputId": "413e471c-f103-4614-8cad-6627b7c0bd8b"
   },
   "outputs": [],
   "source": [
    "target_speed = v_desired\n",
    "max_simulation_time = 100.0\n",
    "\n",
    "# Initial state\n",
    "state = State(x=-0.0, y=5.0, yaw=np.radians(20.0), v=0.0)\n",
    "\n",
    "last_idx = len(trkdata[\"x\"]) - 1\n",
    "time = 0.0\n",
    "x = [state.x]\n",
    "y = [state.y]\n",
    "v = [state.v]\n",
    "yaw = [state.yaw]\n",
    "t = [state.t]\n",
    "e_track = [np.nan]\n",
    "target_idx, _ = calc_target_index(state, trkdata[\"x\"], trkdata[\"y\"], trkdata[\"yaw\"])\n",
    "\n",
    "while max_simulation_time >= state.t and last_idx > target_idx:\n",
    "    ai = speed_control(target_speed, state.v)\n",
    "    di, target_idx, dlat = stanley_control(\n",
    "        state, trkdata[\"x\"], trkdata[\"y\"], trkdata[\"yaw\"], target_idx\n",
    "    )\n",
    "    state.update(ai, di)\n",
    "\n",
    "    x.append(state.x)\n",
    "    y.append(state.y)\n",
    "    v.append(state.v)\n",
    "    yaw.append(state.yaw)\n",
    "    t.append(state.t)\n",
    "    e_track.append(dlat)\n",
    "\n",
    "# Test\n",
    "assert last_idx >= target_idx, \"Cannot reach goal\"\n",
    "\n",
    "plt.plot(trkdata[\"x\"], trkdata[\"y\"], \".r\", label=\"course\")\n",
    "plt.plot(x, y, \"-b\", label=\"trajectory\")\n",
    "plt.legend()\n",
    "plt.xlabel(\"x[m]\")\n",
    "plt.ylabel(\"y[m]\")\n",
    "plt.axis(\"equal\")\n",
    "plt.grid(True)\n",
    "\n",
    "plt.subplots(1)\n",
    "plt.plot(t, [iv * 3.6 for iv in v], \"-r\")\n",
    "plt.xlabel(\"Time[s]\")\n",
    "plt.ylabel(\"Speed[km/h]\")\n",
    "plt.grid(True)\n",
    "\n",
    "plt.subplots(1)\n",
    "plt.plot(t, e_track, \"-r\")\n",
    "plt.xlabel(\"Time[s]\")\n",
    "plt.ylabel(\"Crosstrack error[m]\")\n",
    "plt.grid(True)"
   ]
  },
  {
   "cell_type": "markdown",
   "metadata": {
    "id": "W_VJuSKcw-IK"
   },
   "source": [
    "## 7. Animation\n",
    "\n",
    "The next cells create an animation that demonstrates how the vehicle will drive along the given path."
   ]
  },
  {
   "cell_type": "code",
   "execution_count": null,
   "metadata": {
    "id": "lGKNAWNQw-IK"
   },
   "outputs": [],
   "source": [
    "def getVehicleContours(pos_x, pos_y, yaw):\n",
    "    \"\"\"Compute object contours.\"\"\"\n",
    "\n",
    "    L_2, W_2 = veh_dim_x / 2.0, veh_dim_y / 2.0\n",
    "    u = np.array(\n",
    "        [\n",
    "            [0, -W_2, 1],  # 1\n",
    "            [L_2, -W_2, 1],  # 2\n",
    "            [L_2, W_2, 1],  # 3\n",
    "            [0, W_2, 1],  # 4\n",
    "            [L_2, 0, 1],  # 5\n",
    "            [0, -W_2, 1],  # 6\n",
    "            [0, W_2, 1],  # 7\n",
    "            [-L_2, W_2, 1],  # 8\n",
    "            [-L_2, -W_2, 1],  # 9\n",
    "            [0, -W_2, 1],  # 10\n",
    "        ]\n",
    "    ).T\n",
    "\n",
    "    T = np.array(\n",
    "        [[np.cos(yaw), -np.sin(yaw), pos_x], [np.sin(yaw), np.cos(yaw), pos_y]]\n",
    "    )\n",
    "\n",
    "    v = np.dot(T, u)\n",
    "    return v[0, :], v[1, :]"
   ]
  },
  {
   "cell_type": "code",
   "execution_count": null,
   "metadata": {
    "colab": {
     "base_uri": "https://localhost:8080/",
     "height": 678
    },
    "id": "8RhlyFApw-IL",
    "outputId": "a83e94aa-47a1-4d4b-adf2-870d34978a26"
   },
   "outputs": [],
   "source": [
    "# First set up the figure, the axes, and the plot element\n",
    "fig, ax = plt.subplots(figsize=(8, 8))\n",
    "plt.close()\n",
    "ax.axis(\"equal\")\n",
    "ax.grid(True)\n",
    "ax.set_xlim((-10, 110))\n",
    "ax.set_ylim((-60, 60))\n",
    "(course,) = ax.plot([], [], \"r.\", label=\"course\")\n",
    "(trajectory,) = ax.plot([], [], \"-b\", label=\"trajectory\")\n",
    "(vehicle,) = ax.plot([], [], \"b\", label=\"vehicle\")\n",
    "title_text = ax.text(0.7, 0.9, \"\", transform=ax.transAxes)\n",
    "\n",
    "\n",
    "# initialization function: plot the background of each frame\n",
    "def init():\n",
    "    course.set_data(trkdata[\"x\"], trkdata[\"y\"])\n",
    "    return (course,)\n",
    "\n",
    "\n",
    "# animation function: this is called sequentially\n",
    "def animate(i):\n",
    "    trajectory.set_data(x[:i], y[:i])\n",
    "    px, py = getVehicleContours(x[i], y[i], yaw[i])\n",
    "    vehicle.set_data(px, py)\n",
    "    title_text.set_text(\"Speed[km/h]:\" + str(v[i] * 3.6)[:4])\n",
    "    return (\n",
    "        trajectory,\n",
    "        vehicle,\n",
    "        title_text,\n",
    "    )\n",
    "\n",
    "\n",
    "anim = animation.FuncAnimation(\n",
    "    fig, animate, init_func=init, frames=len(x), interval=50, blit=True\n",
    ")\n",
    "\n",
    "rc(\"animation\", html=\"jshtml\")\n",
    "anim"
   ]
  },
  {
   "cell_type": "markdown",
   "metadata": {
    "id": "rgfwu7tOw-IL"
   },
   "source": [
    "## Potential extensions\n",
    "\n",
    "If you have more time, you can optimize the controller given above for faster driving. Here are some potential next steps:\n",
    "\n",
    "1. Compute the max. allowed velocity $v_{max}(s)$ along the reference path based on the lateral acceleration $a_y(s)$ ($s$: distance driven).\n",
    "\n",
    "2. Add a preview distance to the longitudinal controller.\n",
    "\n",
    "3. Adapt the simulation code above such that the longitudinal controller sets the fastest possible velocities at each point of the path. Make sure that the max. lateral acceleration is not exceeded."
   ]
  }
 ],
 "metadata": {
  "colab": {
   "collapsed_sections": [],
   "provenance": []
  },
  "file_extension": ".py",
  "kernelspec": {
   "display_name": "Python 3.10.8 64-bit",
   "language": "python",
   "name": "python3"
  },
  "language_info": {
   "codemirror_mode": {
    "name": "ipython",
    "version": 3
   },
   "file_extension": ".py",
   "mimetype": "text/x-python",
   "name": "python",
   "nbconvert_exporter": "python",
   "pygments_lexer": "ipython3",
   "version": "3.10.8"
  },
  "latex_envs": {
   "LaTeX_envs_menu_present": true,
   "autoclose": false,
   "autocomplete": true,
   "bibliofile": "biblio.bib",
   "cite_by": "apalike",
   "current_citInitial": 1,
   "eqLabelWithNumbers": true,
   "eqNumInitial": 1,
   "hotkeys": {
    "equation": "Ctrl-E",
    "itemize": "Ctrl-I"
   },
   "labels_anchors": false,
   "latex_user_defs": false,
   "report_style_numbering": false,
   "user_envs_cfg": false
  },
  "mimetype": "text/x-python",
  "name": "python",
  "npconvert_exporter": "python",
  "pygments_lexer": "ipython3",
  "varInspector": {
   "cols": {
    "lenName": 16,
    "lenType": 16,
    "lenVar": 40
   },
   "kernels_config": {
    "python": {
     "delete_cmd_postfix": "",
     "delete_cmd_prefix": "del ",
     "library": "var_list.py",
     "varRefreshCmd": "print(var_dic_list())"
    },
    "r": {
     "delete_cmd_postfix": ") ",
     "delete_cmd_prefix": "rm(",
     "library": "var_list.r",
     "varRefreshCmd": "cat(var_dic_list()) "
    }
   },
   "types_to_exclude": [
    "module",
    "function",
    "builtin_function_or_method",
    "instance",
    "_Feature"
   ],
   "window_display": false
  },
  "version": 3,
  "vscode": {
   "interpreter": {
    "hash": "767d51c1340bd893661ea55ea3124f6de3c7a262a8b4abca0554b478b1e2ff90"
   }
  }
 },
 "nbformat": 4,
 "nbformat_minor": 0
}
