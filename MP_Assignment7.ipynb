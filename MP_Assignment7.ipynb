{
 "cells": [
  {
   "cell_type": "markdown",
   "metadata": {},
   "source": [
    "# Motion Planning, Assignment 3: Wavefront Algorithm\n",
    "\n",
    "#### Thao Dang, Hochschule Esslingen\n",
    "\n",
    "<a id=\"fig_1\"></a>\n",
    "![Fig. 1: Robot scenario](https://drive.google.com/uc?export=view&id=1qI_a9NZQa-YHnSuvg-BBn6WED0zXU87g)\n",
    "\n",
    "In this notebook, you will implement the wavefront algorithm for computing a potential field and finding an optimal path from a start configuration to a given goal. Details on the algorithm can be found in the lecture slides on potential functions.\n",
    "\n",
    "The assignment will work on a 2D maze grid as depicted in the Figure above. The red square indicates the start position, the green circle the goal. The robot can initially move up/down/left/right (4-point-neighborhood), but you can extend your algorithm to include diagonal movement later."
   ]
  },
  {
   "cell_type": "markdown",
   "metadata": {},
   "source": [
    "First, the usual boilerplate code to load the necessary libraries:"
   ]
  },
  {
   "cell_type": "code",
   "execution_count": null,
   "metadata": {},
   "outputs": [],
   "source": [
    "import matplotlib.pyplot as plt\n",
    "import numpy as np\n",
    "from matplotlib import cm\n",
    "from matplotlib.colors import ListedColormap"
   ]
  },
  {
   "cell_type": "markdown",
   "metadata": {},
   "source": [
    "The following defines a maze including start and goal configurations. Obstacles in the grid are denoted by ``1``, free grid cells by ``0``. You may choose from three difference scenarios (and also add your own, of course)."
   ]
  },
  {
   "cell_type": "code",
   "execution_count": null,
   "metadata": {},
   "outputs": [],
   "source": [
    "scenario = 1  # choose your world\n",
    "\n",
    "if scenario == 1:\n",
    "    world = np.array(\n",
    "        [\n",
    "            [0, 0, 0, 0, 0, 0, 0, 0, 0, 0, 0, 0, 0, 0, 0, 0],\n",
    "            [0, 0, 0, 0, 0, 0, 0, 0, 0, 0, 0, 0, 0, 0, 0, 0],\n",
    "            [0, 0, 0, 0, 0, 0, 0, 0, 0, 0, 0, 0, 0, 0, 0, 0],\n",
    "            [0, 0, 0, 0, 1, 1, 1, 1, 1, 1, 1, 1, 0, 0, 0, 0],\n",
    "            [0, 0, 0, 0, 1, 1, 1, 1, 1, 1, 1, 1, 0, 0, 0, 0],\n",
    "            [0, 0, 0, 0, 0, 0, 0, 0, 0, 0, 0, 0, 0, 0, 0, 0],\n",
    "            [0, 0, 0, 0, 0, 0, 0, 0, 0, 0, 0, 0, 0, 0, 0, 0],\n",
    "            [0, 0, 0, 0, 0, 0, 0, 0, 0, 0, 0, 0, 0, 0, 0, 0],\n",
    "        ]\n",
    "    )\n",
    "\n",
    "elif scenario == 2:\n",
    "    world = np.array(\n",
    "        [\n",
    "            [0, 0, 0, 0, 0, 0, 0, 0, 1, 0, 0, 0, 1, 1, 1, 1],\n",
    "            [0, 0, 0, 0, 0, 0, 0, 0, 1, 0, 0, 0, 0, 0, 0, 0],\n",
    "            [0, 0, 0, 0, 0, 0, 0, 0, 1, 0, 0, 0, 0, 0, 0, 0],\n",
    "            [0, 0, 0, 0, 0, 0, 0, 0, 1, 0, 0, 0, 0, 0, 0, 0],\n",
    "            [0, 0, 0, 1, 1, 1, 1, 0, 0, 0, 0, 0, 1, 0, 0, 0],\n",
    "            [0, 0, 0, 0, 0, 0, 0, 0, 0, 0, 0, 0, 1, 0, 0, 0],\n",
    "            [0, 0, 0, 0, 0, 0, 0, 0, 0, 0, 0, 0, 1, 0, 0, 0],\n",
    "            [0, 0, 0, 0, 0, 0, 0, 0, 0, 0, 0, 0, 1, 0, 0, 0],\n",
    "        ]\n",
    "    )\n",
    "\n",
    "elif scenario == 3:\n",
    "    world = np.array(\n",
    "        [\n",
    "            [0, 0, 0, 0, 0, 0, 0, 0, 1, 0, 0, 0, 1, 1, 1, 1],\n",
    "            [0, 0, 0, 0, 0, 0, 0, 0, 1, 0, 0, 0, 0, 0, 0, 0],\n",
    "            [0, 0, 0, 0, 0, 0, 0, 0, 1, 0, 0, 0, 0, 0, 0, 0],\n",
    "            [0, 0, 0, 0, 0, 0, 0, 0, 1, 0, 0, 0, 0, 0, 0, 0],\n",
    "            [0, 0, 0, 1, 1, 1, 1, 0, 0, 0, 0, 0, 1, 1, 1, 1],\n",
    "            [0, 0, 0, 0, 0, 0, 0, 0, 0, 0, 0, 0, 1, 0, 0, 0],\n",
    "            [0, 0, 0, 0, 0, 0, 0, 0, 0, 0, 0, 0, 1, 0, 0, 0],\n",
    "            [0, 0, 0, 0, 0, 0, 0, 0, 0, 0, 0, 0, 1, 0, 0, 0],\n",
    "        ]\n",
    "    )\n",
    "\n",
    "else:\n",
    "    assert False, \"unknown scenario\"\n",
    "\n",
    "q_start = (0, 0)\n",
    "q_goal = (14, 6)"
   ]
  },
  {
   "cell_type": "markdown",
   "metadata": {},
   "source": [
    "The following functions may help you in displaying, modifying and accessing a grid:\n",
    "* ``printWorld`` prints the maze to console\n",
    "* ``plotWorld`` display the maze, the computed distances, and the start/goal configurations via matplotlib\n",
    "* ``setWorld``/``getWorld`` are helper functions to access individual grid cells of the maze.\n",
    "\n",
    "More information is given in the docstrings below."
   ]
  },
  {
   "cell_type": "code",
   "execution_count": null,
   "metadata": {},
   "outputs": [],
   "source": [
    "def printWorld(world):\n",
    "    \"\"\"Print world map (or distance map) to console.\"\"\"\n",
    "    for w in world:\n",
    "        print(w)\n",
    "\n",
    "\n",
    "def plotWorld(world, start=None, goal=None):\n",
    "    \"\"\"Draws world map (or distance map) in matplotlib figure.\n",
    "\n",
    "    Optionally, start and goal configuration are also shown.\n",
    "    \"\"\"\n",
    "    plt.figure(figsize=(10, 4))\n",
    "    y_dim, x_dim = world.shape\n",
    "    disp_world = world.copy()\n",
    "    obstacle_val = int(1 + np.max(disp_world.flatten()) * 1.2)\n",
    "    disp_world[disp_world == 1] = obstacle_val\n",
    "\n",
    "    graymap = cm.get_cmap(\"gray\", 256)\n",
    "    newcolors = graymap(np.linspace(0, 1, 256))\n",
    "    newcolors = np.flipud(newcolors)\n",
    "    newcolors[-1, :] = [1, 0, 1, 1]\n",
    "    newcmap = ListedColormap(newcolors)\n",
    "\n",
    "    plt.imshow(disp_world, cmap=newcmap)\n",
    "    plt.gca().set_xticks([x for x in range(x_dim)])\n",
    "    plt.gca().set_yticks([y for y in range(y_dim)])\n",
    "    plt.xlabel(\"x\")\n",
    "    plt.ylabel(\"y\")\n",
    "    cb = plt.colorbar()\n",
    "    yticks = cb.ax.get_yticks()\n",
    "    yticks[-1] = obstacle_val\n",
    "    yticklabels = [\"%.1f\" % y for y in yticks]\n",
    "    yticklabels[-1] = \"obstacle\"\n",
    "    cb.set_ticks(yticks)\n",
    "    cb.ax.set_yticklabels(yticklabels)\n",
    "    plt.grid(True)\n",
    "\n",
    "    if start:\n",
    "        plt.plot(start[0], start[1], \"rs\")\n",
    "\n",
    "    if goal:\n",
    "        plt.plot(goal[0], goal[1], \"go\")\n",
    "\n",
    "\n",
    "def setWorld(world, q, val):\n",
    "    \"\"\"Set value at a given configuration q in grid map world.\n",
    "\n",
    "    Note that (as in images), x- and y-coordinates are swapped.\"\"\"\n",
    "    world[q[1], q[0]] = val\n",
    "\n",
    "\n",
    "def getWorld(world, q):\n",
    "    \"\"\"Get value at a given configuration q from grid map world.\n",
    "\n",
    "    Note that (as in images), x- and y-coordinates are swapped.\"\"\"\n",
    "    return world[q[1], q[0]]\n",
    "\n",
    "\n",
    "# print grid on console\n",
    "print(\"Initial grid map (1: obstacle, 0: free):\\n\")\n",
    "printWorld(world)\n",
    "print(\"\\nq_start:\", q_start, \", q_goal:\", q_goal)\n",
    "\n",
    "\n",
    "# plot grid via matplotlib\n",
    "plotWorld(world, start=q_start, goal=q_goal)"
   ]
  },
  {
   "cell_type": "markdown",
   "metadata": {},
   "source": [
    "## Exercise 1: Neighborhoods\n",
    "\n",
    "To simplify processing later, first implement a function ``neighbors`` that returns all valid neighbor points of a configuration ``q``. The neighborhood shall first be given by a 4-point-neighborhood (up/down/left/right), but may later be extended to an 8-point-neighborhood. Note that only valid neighborhood points should be returned, i.e. grid cells that lie **within** the maze but may or may not contain obstacles. \n",
    "\n",
    "The return value of this function should be a list of tuples. Also make sure your code passes the test scenarios given below."
   ]
  },
  {
   "cell_type": "code",
   "execution_count": null,
   "metadata": {},
   "outputs": [],
   "source": [
    "def neighbors(world, q):\n",
    "    \"\"\"Returns the neighborhood of q in grid map as a list of configurations.\n",
    "\n",
    "    Args:\n",
    "        world:  grid map with \"1\" indicating an obstacle, all other values\n",
    "                indicate free space (potentially with distance values).\n",
    "        q:      tuple (x,y) indicating the current configuration\n",
    "\n",
    "    Returns:\n",
    "        The neighborhood of q as a list of tuples [(x1, y1), (x2, y2), ...].\n",
    "        Note that only such neighbors are returned that lie within the grid!\n",
    "    \"\"\"\n",
    "    x, y = q\n",
    "    y_dim, x_dim = world.shape\n",
    "\n",
    "    ## INSERT CODE HERE\n",
    "\n",
    "    ## END INSERTED CODE\n",
    "\n",
    "\n",
    "# Test with following test cases:\n",
    "\n",
    "# for 8-point neighborhood:\n",
    "# assert set(neighbors(world, (5,4))) == set([(4, 3), (5, 3), (6, 3), (4, 4), (6, 4), (4, 5), (5, 5), (6, 5)])\n",
    "# assert set(neighbors(world, (0,0))) == set([(1, 0), (0, 1), (1, 1)])\n",
    "\n",
    "# for 4-point neighborhood:\n",
    "assert set(neighbors(world, (5, 4))) == {(5, 3), (4, 4), (6, 4), (5, 5)}\n",
    "assert set(neighbors(world, (0, 0))) == {(1, 0), (0, 1)}"
   ]
  },
  {
   "cell_type": "markdown",
   "metadata": {},
   "source": [
    "## Exercise 2: Distance map\n",
    "\n",
    "Now compute the distance map as described in the lecture. The function to do this, ``wavefront_distance``, is specified below.\n",
    "\n",
    "Notes:\n",
    "* Compute the full distance map, i.e. an \"early stopping\" when encountering the start configuration is not necessary.\n",
    "* You may find the list funcions ``list.pop(0)`` (which pops the first element form the list ``list``) and ``list.append(q)`` (which adds ``q`` at the end of list ``list``) useful."
   ]
  },
  {
   "cell_type": "code",
   "execution_count": null,
   "metadata": {},
   "outputs": [],
   "source": [
    "def wavefront_distance(world, q_goal):\n",
    "    \"\"\"Compute a distance map using the wavefront algorithm.\n",
    "\n",
    "    Args:\n",
    "        world:   grid map with \"1\" indicating an obstacle, \"0\" indicating free space.\n",
    "        q_goal:  tuple (x,y) indicating the goal configuration in the world\n",
    "\n",
    "    Returns:\n",
    "        A distance map w in grid form:\n",
    "            * w(x,y)==1 indicates a grid cell occupied by an obstacle\n",
    "            * w(x,y)==0 indicates a grid cell from which q_goal cannot be reached\n",
    "            * w(x,y)>1  indicates the distance of (x,y) from q_goal\n",
    "    \"\"\"\n",
    "    w = world.copy()\n",
    "\n",
    "    ## INSERT CODE HERE\n",
    "\n",
    "    ## END INSERTED CODE\n",
    "\n",
    "    return w\n",
    "\n",
    "\n",
    "# compute distance map and display results\n",
    "dist_map = wavefront_distance(world, q_goal)\n",
    "\n",
    "plotWorld(dist_map, start=q_start, goal=q_goal)"
   ]
  },
  {
   "cell_type": "markdown",
   "metadata": {},
   "source": [
    "## Exercise 3: Find a path\n",
    "\n",
    "Given the distance map from the previous step, now find a shortest path doing a gradient descent starting from ``q_start``: Find the next grid cell that decreases the distance cost by 1, go there and repeat until you reach the goal.\n",
    "\n",
    "Make sure to check if you can actually reach the goal before starting the search.\n",
    "\n",
    "Plot the optimal path (if any) using matplotlib's ``plt.plot`` command."
   ]
  },
  {
   "cell_type": "code",
   "execution_count": null,
   "metadata": {},
   "outputs": [],
   "source": [
    "plotWorld(dist_map, start=q_start, goal=q_goal)\n",
    "\n",
    "## INSERT CODE HERE"
   ]
  },
  {
   "cell_type": "markdown",
   "metadata": {},
   "source": [
    "## Optional excercises\n",
    "\n",
    "* Test the algorithm and create your own scenarios .\n",
    "* Modify the code so that the robot can move diagonally (8-point-neighborhood)."
   ]
  }
 ],
 "metadata": {
  "kernelspec": {
   "display_name": "Python 3.10.6 64-bit",
   "language": "python",
   "name": "python3"
  },
  "language_info": {
   "codemirror_mode": {
    "name": "ipython",
    "version": 3
   },
   "file_extension": ".py",
   "mimetype": "text/x-python",
   "name": "python",
   "nbconvert_exporter": "python",
   "pygments_lexer": "ipython3",
   "version": "3.10.6"
  },
  "latex_envs": {
   "LaTeX_envs_menu_present": true,
   "autoclose": false,
   "autocomplete": true,
   "bibliofile": "biblio.bib",
   "cite_by": "apalike",
   "current_citInitial": 1,
   "eqLabelWithNumbers": true,
   "eqNumInitial": 1,
   "hotkeys": {
    "equation": "Ctrl-E",
    "itemize": "Ctrl-I"
   },
   "labels_anchors": false,
   "latex_user_defs": false,
   "report_style_numbering": false,
   "user_envs_cfg": false
  },
  "varInspector": {
   "cols": {
    "lenName": 16,
    "lenType": 16,
    "lenVar": 40
   },
   "kernels_config": {
    "python": {
     "delete_cmd_postfix": "",
     "delete_cmd_prefix": "del ",
     "library": "var_list.py",
     "varRefreshCmd": "print(var_dic_list())"
    },
    "r": {
     "delete_cmd_postfix": ") ",
     "delete_cmd_prefix": "rm(",
     "library": "var_list.r",
     "varRefreshCmd": "cat(var_dic_list()) "
    }
   },
   "types_to_exclude": [
    "module",
    "function",
    "builtin_function_or_method",
    "instance",
    "_Feature"
   ],
   "window_display": false
  },
  "vscode": {
   "interpreter": {
    "hash": "2fe647bbb77e62872617cbc38a3e3544c683d704d37030e5bf05a7c91b2efa34"
   }
  }
 },
 "nbformat": 4,
 "nbformat_minor": 2
}
